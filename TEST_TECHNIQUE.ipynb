{
 "cells": [
  {
   "cell_type": "code",
   "execution_count": 26,
   "id": "115db191-1809-43f1-81f1-14dd97ba297e",
   "metadata": {},
   "outputs": [],
   "source": [
    "import numpy as np"
   ]
  },
  {
   "cell_type": "code",
   "execution_count": 27,
   "id": "4d0db086-8988-4559-ba8c-f141a10c9bbc",
   "metadata": {},
   "outputs": [
    {
     "name": "stdin",
     "output_type": "stream",
     "text": [
      "Entrez la largeur de la table :  4\n",
      "Entrez la hauteur de la table :  6\n"
     ]
    },
    {
     "name": "stdout",
     "output_type": "stream",
     "text": [
      " 0  1  3  6\n",
      " 2  4  7 10\n",
      " 5  8 11 14\n",
      " 9 12 15 18\n",
      "13 16 19 21\n",
      "17 20 22 23\n"
     ]
    }
   ],
   "source": [
    "def create_diagonal_table(width, height):\n",
    "    # table vide avec des 0\n",
    "    table = np.zeros((height, width), dtype=int)\n",
    "    \n",
    "    # valeur de départ\n",
    "    value = 0\n",
    "    \n",
    "    # pour each diagonale\n",
    "    for diag in range(width + height - 1):\n",
    "        # la position de dép de la diagonale\n",
    "        if diag < width:\n",
    "            start_col = diag \n",
    "            start_row = 0\n",
    "        else:\n",
    "            start_col = width - 1\n",
    "            start_row = diag - (width - 1)\n",
    "        \n",
    "        # Remplir\n",
    "        r = start_row\n",
    "        c = start_col\n",
    "        while r < height and c >= 0:\n",
    "            table[r, c] = value\n",
    "            value = (value + 1) % (width * height)  # Revenir à 0 si la valeur dépasse la taille\n",
    "            r += 1\n",
    "            c -= 1\n",
    "\n",
    "    return table\n",
    "\n",
    "def print_table(table): # juste pour les espaces\n",
    "    max_value = np.max(table)\n",
    "    num_width = len(str(max_value))  # Largeur du plus grand nombre\n",
    "\n",
    "    for row in table:\n",
    "        # Formater chaque ligne avec la largeur spécifiée\n",
    "        formatted_row = ' '.join(f'{val:>{num_width}}' for val in row)\n",
    "        print(formatted_row)\n",
    "\n",
    "def main():\n",
    "    # Obtenir les dimensions de la table de l'utilisateur\n",
    "    width = int(input(\"Entrez la largeur de la table : \"))\n",
    "    height = int(input(\"Entrez la hauteur de la table : \"))\n",
    "    \n",
    "    \n",
    "    table = create_diagonal_table(width, height)\n",
    "    \n",
    "    # Imprimer la table\n",
    "    print_table(table)\n",
    "\n",
    "# Exécuter la fonction principale\n",
    "if __name__ == \"__main__\":\n",
    "    main()\n"
   ]
  },
  {
   "cell_type": "code",
   "execution_count": null,
   "id": "d47b71ea-63c6-460c-b015-222e57c6f397",
   "metadata": {},
   "outputs": [],
   "source": []
  }
 ],
 "metadata": {
  "kernelspec": {
   "display_name": "Python 3 (ipykernel)",
   "language": "python",
   "name": "python3"
  },
  "language_info": {
   "codemirror_mode": {
    "name": "ipython",
    "version": 3
   },
   "file_extension": ".py",
   "mimetype": "text/x-python",
   "name": "python",
   "nbconvert_exporter": "python",
   "pygments_lexer": "ipython3",
   "version": "3.10.12"
  }
 },
 "nbformat": 4,
 "nbformat_minor": 5
}
